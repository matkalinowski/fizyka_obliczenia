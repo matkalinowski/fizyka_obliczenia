{
 "cells": [
  {
   "cell_type": "code",
   "execution_count": 2,
   "metadata": {
    "collapsed": true,
    "jupyter": {
     "outputs_hidden": true
    },
    "tags": []
   },
   "outputs": [
    {
     "name": "stdout",
     "output_type": "stream",
     "text": [
      "Collecting seaborn\n",
      "  Using cached seaborn-0.11.2-py3-none-any.whl (292 kB)\n",
      "Requirement already satisfied: scipy>=1.0 in c:\\users\\matowy\\appdata\\local\\programs\\python\\python38\\lib\\site-packages (from seaborn) (1.5.2)\n",
      "Requirement already satisfied: matplotlib>=2.2 in c:\\users\\matowy\\appdata\\local\\programs\\python\\python38\\lib\\site-packages (from seaborn) (3.3.1)\n",
      "Requirement already satisfied: numpy>=1.15 in c:\\users\\matowy\\appdata\\local\\programs\\python\\python38\\lib\\site-packages (from seaborn) (1.19.1)\n",
      "Requirement already satisfied: pandas>=0.23 in c:\\users\\matowy\\appdata\\local\\programs\\python\\python38\\lib\\site-packages (from seaborn) (1.1.0)\n",
      "Requirement already satisfied: certifi>=2020.06.20 in c:\\users\\matowy\\appdata\\local\\programs\\python\\python38\\lib\\site-packages (from matplotlib>=2.2->seaborn) (2020.6.20)\n",
      "Requirement already satisfied: python-dateutil>=2.1 in c:\\users\\matowy\\appdata\\local\\programs\\python\\python38\\lib\\site-packages (from matplotlib>=2.2->seaborn) (2.8.1)\n",
      "Requirement already satisfied: pillow>=6.2.0 in c:\\users\\matowy\\appdata\\local\\programs\\python\\python38\\lib\\site-packages (from matplotlib>=2.2->seaborn) (7.2.0)\n",
      "Requirement already satisfied: kiwisolver>=1.0.1 in c:\\users\\matowy\\appdata\\local\\programs\\python\\python38\\lib\\site-packages (from matplotlib>=2.2->seaborn) (1.2.0)\n",
      "Requirement already satisfied: pyparsing!=2.0.4,!=2.1.2,!=2.1.6,>=2.0.3 in c:\\users\\matowy\\appdata\\local\\programs\\python\\python38\\lib\\site-packages (from matplotlib>=2.2->seaborn) (2.4.7)\n",
      "Requirement already satisfied: cycler>=0.10 in c:\\users\\matowy\\appdata\\local\\programs\\python\\python38\\lib\\site-packages (from matplotlib>=2.2->seaborn) (0.10.0)\n",
      "Requirement already satisfied: pytz>=2017.2 in c:\\users\\matowy\\appdata\\local\\programs\\python\\python38\\lib\\site-packages (from pandas>=0.23->seaborn) (2020.1)\n",
      "Requirement already satisfied: six>=1.5 in c:\\users\\matowy\\appdata\\local\\programs\\python\\python38\\lib\\site-packages (from python-dateutil>=2.1->matplotlib>=2.2->seaborn) (1.15.0)\n",
      "Installing collected packages: seaborn\n",
      "Successfully installed seaborn-0.11.2\n"
     ]
    },
    {
     "name": "stderr",
     "output_type": "stream",
     "text": [
      "WARNING: You are using pip version 20.1.1; however, version 21.3.1 is available.\n",
      "You should consider upgrading via the 'c:\\users\\matowy\\appdata\\local\\programs\\python\\python38\\python.exe -m pip install --upgrade pip' command.\n"
     ]
    }
   ],
   "source": [
    "!pip install seaborn"
   ]
  },
  {
   "cell_type": "code",
   "execution_count": 366,
   "metadata": {},
   "outputs": [],
   "source": [
    "from IPython.core.interactiveshell import InteractiveShell\n",
    "InteractiveShell.ast_node_interactivity = \"all\"\n",
    "\n",
    "%reload_ext autoreload\n",
    "%autoreload 2\n",
    "%matplotlib inline\n",
    "#%%\n",
    "import pandas as pd\n",
    "# import seaborn as sns\n",
    "# import matplotlib.pyplot as plt"
   ]
  },
  {
   "cell_type": "code",
   "execution_count": 367,
   "metadata": {},
   "outputs": [
    {
     "data": {
      "text/plain": [
       "1.2589254117941673"
      ]
     },
     "execution_count": 367,
     "metadata": {},
     "output_type": "execute_result"
    }
   ],
   "source": [
    "import math\n",
    "\n",
    "def mw_to_dbm(x):\n",
    "    # https://www.rapidtables.com/convert/power/mW_to_dBm.html\n",
    "    return 10* math.log10(x/1)\n",
    "\n",
    "def dbm_to_mw(x):\n",
    "    return 1*math.pow(10, (x/10))\n",
    "\n",
    "# 1.258925\n",
    "dbm_to_mw(1)"
   ]
  },
  {
   "cell_type": "code",
   "execution_count": 429,
   "metadata": {},
   "outputs": [],
   "source": [
    "# stale\n",
    "c = 299_792_458 # [m/s] - predkosc rozchodzenia sie swiatla w prozni\n",
    "h = 6.620*1e-34 # [Js] - stala planca\n",
    "\n",
    "# wartosci zalozone\n",
    "n0 = 1000 # [fotonów/bit] - wartosc pesymistyczna, liczba fotonow potrzebna do odczytania 1 w odbiorniku\n",
    "lam = 1550e-9 # nm - dlugosc fali\n",
    "# Ps = mw_to_dbm(20) # [dBm] - moc nadajnika\n",
    "L_smf = 167 # km - dlugosc trasy https://www.google.com/maps/dir/33-100+Tarn%C3%B3w/Przemy%C5%9Bl/@49.9802015,20.765582,8z/am=t/data=!3m1!4b1!4m14!4m13!1m5!1m1!1s0x473d834352c3ffc7:0xcf1a70dff872f61e!2m2!1d20.9858407!2d50.0121011!1m5!1m1!1s0x473b7edf1fb668d1:0x1efc1701bb993ff0!2m2!1d22.7677908!2d49.7838623!3e1\n",
    "\n",
    "# tresc zadania\n",
    "Pm = 1 # dB - margines mocy odbieranej w odbiorniku\n",
    "As = 0.2 # dB - straty na spawie\n",
    "Ac = 1 # db - straty na złączu\n",
    "LX = 20 # km - spaw co tyle km\n",
    "sprawnosc_fotodiody = 0.5 # %\n",
    "\n",
    "# z dokumentacji\n",
    "# smf-28 ultra\n",
    "alfa_smf = tlumiennosc_swiatlowodu_smf_28 = 0.18 # <= dB / km - maksimum\n",
    "n_smf = wspolczynnik_zalamania_smf_28 = 1.4682\n",
    "D_smf = dyspersja_smf_28 = 18.0 # <= [ps/nm*km] "
   ]
  },
  {
   "cell_type": "markdown",
   "metadata": {
    "tags": []
   },
   "source": [
    "\n",
    "### opis wartosci:\n",
    "dyspersja 18 to jest duzo, w przypadku lacza jednokanalowego too raczej zly wybor, to bylby lepszy wybor do lacza wielokanalowego, poniewaz tam najwiekszym problemem jest mieszanie czterofalowe, gdzie w celu ograniczenia jego efektu im wiekszy wspolczynnik dyspersji tym lepiej.\n",
    "\n",
    "#### straty na zlaczach\n",
    "- spawy (As)- zazwyczaj ok. 0.05, u mnie jest duzo wyzsza niz standardowa (0.2)\n",
    "- zlaczki (Ac)- zazwwyczaj 0.05, 0.1 dopuszczalna, 1 zdecydowanie za duzo\n",
    "zlaczki znajduja sie na poczatku lacza, tam gdzie swiatlowod trafia do modulu kompensujacego, po wyjsciu z modulu k do fotodetektora jest kolejjna\n",
    "ilosc zlaczek. W dokumentacjji nie znalazlem info o braniu pod uwage zlaczek wiec zalozylem ich istnienie zgodnie z zadaniem\n",
    "tak samo w przypadku swiatlowodu kompensujacego\n",
    "- odleglosc miedzy spawami- 5 to malo, 20 sa ok\n",
    "- margines 3-6 db standardowo, 1 to jakos malo, 6 bardzoo duzo\n",
    "\n",
    "\n",
    "\n",
    "## Kompensacja\n",
    "a)używając jednego lub kilku modułów kompensujących dyspersję \n",
    "On jest od razu wyliczony\n",
    "Kazdy z modulow wnosi tlumienie; trzeba wziac pod uwage ten budzet mocy; wartosc powinna byc jak najblizsza 0\n",
    "b) używając światłowodu DCF-38\n",
    "jego uzywamy tyle ile trzeba- wyliczyc\n"
   ]
  },
  {
   "cell_type": "code",
   "execution_count": 430,
   "metadata": {},
   "outputs": [],
   "source": [
    "# z dokumentacji\n",
    "# smf-28 ultra\n",
    "alfa_smf = tlumiennosc_swiatlowodu_smf_28 = 0.18 # <= dB / km - maksimum\n",
    "wspolczynnik_zalamania_smf_28 = 1.4682\n",
    "D_smf = dyspersja_smf_28 = 18.0 # <= [ps/nm*km]\n",
    "\n",
    "# b\n",
    "# smf-38\n",
    "alfa_dcf = tlumiennosc_swiatlowodu_dcf_38 = 0.265 # <= dB / km - maksimum\n",
    "n_dcf = wspolczynnik_zalamania_dcf_38 = 1.474\n",
    "D_dcf = dyspersja_smf_38 = -38 # <= [ps/nm*km]\n",
    "# dyspersja_smf_38 = -30 # wartosci to: -49.00 to -30.00 ps/(nm*km)"
   ]
  },
  {
   "cell_type": "code",
   "execution_count": 431,
   "metadata": {},
   "outputs": [
    {
     "name": "stdout",
     "output_type": "stream",
     "text": [
      "liczba_spawow=8\n",
      "v=204190476.77428144\n",
      "f=1.32e+14\n"
     ]
    }
   ],
   "source": [
    "# # obliczenia\n",
    "liczba_spawow = L_smf // LX # liczba bez jednostki\n",
    "print(f'{liczba_spawow=}')\n",
    "# v = c/n, n=wspolczynnik zalamania, v=predkosc fali\n",
    "v = c / n_smf # m/s\n",
    "print(f'{v=}')\n",
    "\n",
    "# f= v/lambda, labda = dlugoosc fali, f= czestotliwosc fali\n",
    "f = v / lam # m/s / m = Hz\n",
    "# f = c / lam # m/s / m = Hz\n",
    "print(f'{f=:.3}')\n",
    "# Pc = straty_na_spawach + straty_na_zlaczach\n",
    "# print(f'{Pc=}')"
   ]
  },
  {
   "cell_type": "markdown",
   "metadata": {},
   "source": [
    "# B) Kompensacja uzywajac swiatlowodu dcf-38"
   ]
  },
  {
   "cell_type": "code",
   "execution_count": 432,
   "metadata": {},
   "outputs": [
    {
     "name": "stdout",
     "output_type": "stream",
     "text": [
      "straty_na_spawach=1.6\n",
      "straty_na_zlaczach=3\n",
      "Pc=4.6\n"
     ]
    }
   ],
   "source": [
    "straty_na_spawach = liczba_spawow * As # dB\n",
    "print(f'{straty_na_spawach=}')\n",
    "straty_na_zlaczach = 3 * Ac\n",
    "print(f'{straty_na_zlaczach=}')\n",
    "\n",
    "Pc = straty_na_polaczeniach = straty_na_spawach + straty_na_zlaczach\n",
    "print(f'{Pc=}')"
   ]
  },
  {
   "cell_type": "code",
   "execution_count": 433,
   "metadata": {},
   "outputs": [
    {
     "name": "stdout",
     "output_type": "stream",
     "text": [
      "L_dcf=79.11\n",
      "0.265dB/km * 79.11km = 20.96dB\n",
      "0.18dB/km * 167km = 30.06 dB\n",
      "20.96dB + 30.06dB = 51.02dB\n"
     ]
    }
   ],
   "source": [
    "L_dcf = - L_smf * D_smf / D_dcf\n",
    "print(f'{L_dcf=:.2f}')\n",
    "x_dcf = L_dcf*alfa_dcf\n",
    "x_smf = L_smf*alfa_smf\n",
    "print(f'{alfa_dcf}dB/km * {L_dcf:.2f}km = {x_dcf:.2F}dB')\n",
    "print(f'{alfa_smf}dB/km * {L_smf}km = {x_smf:.2F} dB')\n",
    "X = x_dcf + x_smf\n",
    "print(f'{x_dcf:.2f}dB + {x_smf}dB = {X:.2f}dB')"
   ]
  },
  {
   "cell_type": "code",
   "execution_count": 434,
   "metadata": {},
   "outputs": [
    {
     "name": "stdout",
     "output_type": "stream",
     "text": [
      "\n",
      "B0=5 Gb/s\n",
      "Pr0 = -33.60 db = 4.36e-07 W\n",
      "Pr = 8.72e-07 W = -30.59 dB\n",
      "Ps = Pr + Pm + Pc + X = -30.59dB + 1dB + 4.6dB + 51.02dB = 26.03dB = 400.73 mW\n",
      "\n",
      "B0=20 Gb/s\n",
      "Pr0 = -27.58 db = 1.74e-06 W\n",
      "Pr = 3.49e-06 W = -24.57 dB\n",
      "Ps = Pr + Pm + Pc + X = -24.57dB + 1dB + 4.6dB + 51.02dB = 32.05dB = 1602.92 mW\n",
      "\n",
      "B0=50 Gb/s\n",
      "Pr0 = -23.60 db = 4.36e-06 W\n",
      "Pr = 8.72e-06 W = -20.59 dB\n",
      "Ps = Pr + Pm + Pc + X = -20.59dB + 1dB + 4.6dB + 51.02dB = 36.03dB = 4007.29 mW\n"
     ]
    },
    {
     "data": {
      "image/png": "[encoded data removed]",
      "text/plain": [
       "<Figure size 576x576 with 2 Axes>"
      ]
     },
     "metadata": {
      "needs_background": "light"
     },
     "output_type": "display_data"
    }
   ],
   "source": [
    "import pandas as pd\n",
    "import seaborn as sns\n",
    "import matplotlib.pyplot as plt\n",
    "\n",
    "def calculate_pr0_dbm(B0):\n",
    "    return 10*math.log10(n0 * h * f * B0*1e9 / 0.001)\n",
    "\n",
    "def plot_pr(b0_range, x_compensator, Pc, print_results=False, plot=False):\n",
    "    results = []\n",
    "    for B0 in b0_range:\n",
    "        if print_results:\n",
    "            print(f'\\n{B0=} Gb/s')\n",
    "        Pr0_dbm = calculate_pr0_dbm(B0)\n",
    "        Pr0_mw = dbm_to_mw(Pr0_dbm)\n",
    "        # print(f'Pr0 = {Pr0_dbm:.2f} [db] = {Pr0_mw:.2e} [mW] = {Pr0_mw/1000:.2e} [W]')\n",
    "        if print_results:\n",
    "            print(f'Pr0 = {Pr0_dbm:.2f} db = {Pr0_mw/1000:.2e} W')\n",
    "\n",
    "        Pr_mw = dbm_to_mw(Pr0_dbm) / sprawnosc_fotodiody\n",
    "        Pr_db = mw_to_dbm(Pr_mw)\n",
    "        \n",
    "        Ps_db = Pr_db + Pm + Pc + X\n",
    "        Ps_mw = dbm_to_mw(Ps_db)\n",
    "        # print(f'Pr = {Pr_mw:.2e} [mw], {Pr_mw/1000:.2e} [W], {Pr_db=:.2f} [dB]')\n",
    "        if print_results:\n",
    "            print(f'Pr = {Pr_mw/1000:.2e} W = {Pr_db:.2f} dB')\n",
    "            print(f'Ps = Pr + Pm + Pc + X = {Pr_db:.2F}dB + {Pm}dB + {Pc}dB + {X:.2f}dB = {Ps_db:.2f}dB = {Ps_mw:.2f} mW')\n",
    "        results.append([B0, Pr_db, Pm, Pc, x_compensator, x_smf, Ps_db, Ps_mw])\n",
    "    df = pd.DataFrame(results, columns=['B0', 'Pr_db', 'Pm', 'Pc', 'x_compensator', 'x_smf', 'Ps_db','Ps_mw'])\n",
    "    if plot:\n",
    "        fig, ax = plt.subplots(figsize=[8,8])\n",
    "        fig = sns.lineplot(data=df, x='Pr_db', y='B0')\n",
    "        plt.ylabel('B0 [Gb/s]')\n",
    "        plt.xlabel('Pr [dB]')\n",
    "        for val in [5, 20, 50]:\n",
    "            Pr_db_val = Pr.loc[Pr.B0 == val, 'Pr_db'].values[0]\n",
    "            plt.axhline(y=val, color='r', linestyle=':')\n",
    "            plt.axvline(x=Pr_db_val, color='b', linestyle=':')\n",
    "            \n",
    "\n",
    "#         fig, ax = plt.subplots(figsize=[6,6])\n",
    "        ax2 = plt.twinx()\n",
    "        fig = sns.lineplot(data=df, x='Pr_db', y='Ps_mw', ax=ax2)\n",
    "        plt.xlabel('Pr [dB]')\n",
    "        plt.ylabel('Ps [mW]')\n",
    "    return df\n",
    "\n",
    "results = plot_pr([5, 20, 50], x_dcf, Pc, True)\n",
    "_ = plot_pr(range(1,500), x_dcf, Pc, plot=True)"
   ]
  },
  {
   "cell_type": "code",
   "execution_count": 435,
   "metadata": {},
   "outputs": [
    {
     "data": {
      "text/html": [
       "<div>\n",
       "<style scoped>\n",
       "    .dataframe tbody tr th:only-of-type {\n",
       "        vertical-align: middle;\n",
       "    }\n",
       "\n",
       "    .dataframe tbody tr th {\n",
       "        vertical-align: top;\n",
       "    }\n",
       "\n",
       "    .dataframe thead th {\n",
       "        text-align: right;\n",
       "    }\n",
       "</style>\n",
       "<table border=\"1\" class=\"dataframe\">\n",
       "  <thead>\n",
       "    <tr style=\"text-align: right;\">\n",
       "      <th></th>\n",
       "      <th>Pr_db</th>\n",
       "      <th>Ps_mw</th>\n",
       "    </tr>\n",
       "    <tr>\n",
       "      <th>B0</th>\n",
       "      <th></th>\n",
       "      <th></th>\n",
       "    </tr>\n",
       "  </thead>\n",
       "  <tbody>\n",
       "    <tr>\n",
       "      <th>5</th>\n",
       "      <td>-30.59</td>\n",
       "      <td>400.73</td>\n",
       "    </tr>\n",
       "    <tr>\n",
       "      <th>20</th>\n",
       "      <td>-24.57</td>\n",
       "      <td>1,602.92</td>\n",
       "    </tr>\n",
       "    <tr>\n",
       "      <th>50</th>\n",
       "      <td>-20.59</td>\n",
       "      <td>4,007.29</td>\n",
       "    </tr>\n",
       "  </tbody>\n",
       "</table>\n",
       "</div>"
      ],
      "text/plain": [
       "    Pr_db    Ps_mw\n",
       "B0                \n",
       "5  -30.59   400.73\n",
       "20 -24.57 1,602.92\n",
       "50 -20.59 4,007.29"
      ]
     },
     "metadata": {},
     "output_type": "display_data"
    },
    {
     "data": {
      "text/html": [
       "<div>\n",
       "<style scoped>\n",
       "    .dataframe tbody tr th:only-of-type {\n",
       "        vertical-align: middle;\n",
       "    }\n",
       "\n",
       "    .dataframe tbody tr th {\n",
       "        vertical-align: top;\n",
       "    }\n",
       "\n",
       "    .dataframe thead th {\n",
       "        text-align: right;\n",
       "    }\n",
       "</style>\n",
       "<table border=\"1\" class=\"dataframe\">\n",
       "  <thead>\n",
       "    <tr style=\"text-align: right;\">\n",
       "      <th></th>\n",
       "      <th>Pr_db</th>\n",
       "      <th>Pm</th>\n",
       "      <th>Pc</th>\n",
       "      <th>x_compensator</th>\n",
       "      <th>x_smf</th>\n",
       "    </tr>\n",
       "    <tr>\n",
       "      <th>B0</th>\n",
       "      <th></th>\n",
       "      <th></th>\n",
       "      <th></th>\n",
       "      <th></th>\n",
       "      <th></th>\n",
       "    </tr>\n",
       "  </thead>\n",
       "  <tbody>\n",
       "    <tr>\n",
       "      <th>5</th>\n",
       "      <td>-30.59</td>\n",
       "      <td>1</td>\n",
       "      <td>4.60</td>\n",
       "      <td>20.96</td>\n",
       "      <td>30.06</td>\n",
       "    </tr>\n",
       "    <tr>\n",
       "      <th>20</th>\n",
       "      <td>-24.57</td>\n",
       "      <td>1</td>\n",
       "      <td>4.60</td>\n",
       "      <td>20.96</td>\n",
       "      <td>30.06</td>\n",
       "    </tr>\n",
       "    <tr>\n",
       "      <th>50</th>\n",
       "      <td>-20.59</td>\n",
       "      <td>1</td>\n",
       "      <td>4.60</td>\n",
       "      <td>20.96</td>\n",
       "      <td>30.06</td>\n",
       "    </tr>\n",
       "  </tbody>\n",
       "</table>\n",
       "</div>"
      ],
      "text/plain": [
       "    Pr_db  Pm   Pc  x_compensator  x_smf\n",
       "B0                                      \n",
       "5  -30.59   1 4.60          20.96  30.06\n",
       "20 -24.57   1 4.60          20.96  30.06\n",
       "50 -20.59   1 4.60          20.96  30.06"
      ]
     },
     "metadata": {},
     "output_type": "display_data"
    },
    {
     "data": {
      "text/html": [
       "<div>\n",
       "<style scoped>\n",
       "    .dataframe tbody tr th:only-of-type {\n",
       "        vertical-align: middle;\n",
       "    }\n",
       "\n",
       "    .dataframe tbody tr th {\n",
       "        vertical-align: top;\n",
       "    }\n",
       "\n",
       "    .dataframe thead th {\n",
       "        text-align: right;\n",
       "    }\n",
       "</style>\n",
       "<table border=\"1\" class=\"dataframe\">\n",
       "  <thead>\n",
       "    <tr style=\"text-align: right;\">\n",
       "      <th></th>\n",
       "      <th>Pr_db</th>\n",
       "      <th>Pm</th>\n",
       "      <th>Pc</th>\n",
       "      <th>x_compensator</th>\n",
       "      <th>x_smf</th>\n",
       "    </tr>\n",
       "    <tr>\n",
       "      <th>B0</th>\n",
       "      <th></th>\n",
       "      <th></th>\n",
       "      <th></th>\n",
       "      <th></th>\n",
       "      <th></th>\n",
       "    </tr>\n",
       "  </thead>\n",
       "  <tbody>\n",
       "    <tr>\n",
       "      <th>5</th>\n",
       "      <td>~35%</td>\n",
       "      <td>~1%</td>\n",
       "      <td>~5%</td>\n",
       "      <td>~24%</td>\n",
       "      <td>~34%</td>\n",
       "    </tr>\n",
       "    <tr>\n",
       "      <th>20</th>\n",
       "      <td>~30%</td>\n",
       "      <td>~1%</td>\n",
       "      <td>~6%</td>\n",
       "      <td>~26%</td>\n",
       "      <td>~37%</td>\n",
       "    </tr>\n",
       "    <tr>\n",
       "      <th>50</th>\n",
       "      <td>~27%</td>\n",
       "      <td>~1%</td>\n",
       "      <td>~6%</td>\n",
       "      <td>~27%</td>\n",
       "      <td>~39%</td>\n",
       "    </tr>\n",
       "  </tbody>\n",
       "</table>\n",
       "</div>"
      ],
      "text/plain": [
       "    Pr_db  Pm  Pc  x_compensator  x_smf\n",
       "B0                                     \n",
       "5    ~35% ~1% ~5%           ~24%   ~34%\n",
       "20   ~30% ~1% ~6%           ~26%   ~37%\n",
       "50   ~27% ~1% ~6%           ~27%   ~39%"
      ]
     },
     "metadata": {},
     "output_type": "display_data"
    }
   ],
   "source": [
    "def print_results_tables(results):\n",
    "    df = results[['B0','Pr_db', 'Ps_mw','Pm', 'Pc', 'x_compensator', 'x_smf']]\n",
    "    df = df.set_index('B0', drop=True)\n",
    "\n",
    "    pd.options.display.float_format = '{:,.2f}'.format\n",
    "    display(df[['Pr_db', 'Ps_mw']])\n",
    "    columns = 'Pr_db','Pm', 'Pc', 'x_compensator', 'x_smf'\n",
    "    display(df[[*columns]])\n",
    "    pd.options.display.float_format = '~{:,.0f}%'.format\n",
    "    display(df[[*columns]].abs().apply(lambda x: x/x.sum()*100, axis=1))\n",
    "print_results_tables(results)"
   ]
  },
  {
   "cell_type": "markdown",
   "metadata": {},
   "source": [
    "# A) Kompensacja uzywajac modulow kompensujacych"
   ]
  },
  {
   "cell_type": "code",
   "execution_count": 436,
   "metadata": {},
   "outputs": [
    {
     "data": {
      "text/plain": [
       "167"
      ]
     },
     "execution_count": 436,
     "metadata": {},
     "output_type": "execute_result"
    },
    {
     "data": {
      "text/plain": [
       "3006.0"
      ]
     },
     "execution_count": 436,
     "metadata": {},
     "output_type": "execute_result"
    }
   ],
   "source": [
    "# kompensacje\n",
    "# a\n",
    "# modul kompensujacy aris dcm\n",
    "L_smf\n",
    "D = D_smf * L_smf\n",
    "D"
   ]
  },
  {
   "cell_type": "code",
   "execution_count": 437,
   "metadata": {},
   "outputs": [
    {
     "ename": "SyntaxError",
     "evalue": "invalid character in identifier (<ipython-input-437-b6bec789883b>, line 1)",
     "output_type": "error",
     "traceback": [
      "\u001b[0;36m  File \u001b[0;32m\"<ipython-input-437-b6bec789883b>\"\u001b[0;36m, line \u001b[0;32m1\u001b[0m\n\u001b[0;31m    DCM‐20A/* -340 ± 2% 20 km 2.7 0.4\u001b[0m\n\u001b[0m          ^\u001b[0m\n\u001b[0;31mSyntaxError\u001b[0m\u001b[0;31m:\u001b[0m invalid character in identifier\n"
     ]
    }
   ],
   "source": [
    "\n",
    "DCM‐20A/* -340 ± 2% 20 km 2.7 0.4\n",
    "DCM‐30A/* -510 ± 2% 30 km 3.1 0.5\n",
    "DCM‐40A/* -680 ± 2% 40 km 3.6 0.6\n",
    "DCM‐50A/* -850 ± 2% 50 km 4.0 0.7\n",
    "DCM‐60A/* -1020 ± 2% 60 km 4.7 0.7\n",
    "DCM‐70A/* -1190 ± 2% 70 km 5.1 0.8\n",
    "DCM‐80A/* -1360 ± 2% 80 km 5.6 0.8\n",
    "DCM‐90A/* -1530 ± 2% 90 km 6.0 0.9\n",
    "DCM‐100A/* -1700 ± 2% 100 km 6.5 0.9"
   ]
  },
  {
   "cell_type": "code",
   "execution_count": 441,
   "metadata": {},
   "outputs": [
    {
     "data": {
      "text/html": [
       "<div>\n",
       "<style scoped>\n",
       "    .dataframe tbody tr th:only-of-type {\n",
       "        vertical-align: middle;\n",
       "    }\n",
       "\n",
       "    .dataframe tbody tr th {\n",
       "        vertical-align: top;\n",
       "    }\n",
       "\n",
       "    .dataframe thead th {\n",
       "        text-align: right;\n",
       "    }\n",
       "</style>\n",
       "<table border=\"1\" class=\"dataframe\">\n",
       "  <thead>\n",
       "    <tr style=\"text-align: right;\">\n",
       "      <th></th>\n",
       "      <th>type</th>\n",
       "      <th>dispersion</th>\n",
       "      <th>fiber_compensation_distance</th>\n",
       "      <th>insertion_loss</th>\n",
       "      <th>needs_due_to_dispersion_comp</th>\n",
       "      <th>full_insertion_loss</th>\n",
       "    </tr>\n",
       "  </thead>\n",
       "  <tbody>\n",
       "    <tr>\n",
       "      <th>0</th>\n",
       "      <td>DCM‐20A/*</td>\n",
       "      <td>-340</td>\n",
       "      <td>20</td>\n",
       "      <td>2.70</td>\n",
       "      <td>9</td>\n",
       "      <td>24.30</td>\n",
       "    </tr>\n",
       "    <tr>\n",
       "      <th>1</th>\n",
       "      <td>DCM‐30A/*</td>\n",
       "      <td>-510</td>\n",
       "      <td>30</td>\n",
       "      <td>3.10</td>\n",
       "      <td>6</td>\n",
       "      <td>18.60</td>\n",
       "    </tr>\n",
       "    <tr>\n",
       "      <th>2</th>\n",
       "      <td>DCM‐40A/*</td>\n",
       "      <td>-680</td>\n",
       "      <td>40</td>\n",
       "      <td>3.60</td>\n",
       "      <td>5</td>\n",
       "      <td>18.00</td>\n",
       "    </tr>\n",
       "    <tr>\n",
       "      <th>3</th>\n",
       "      <td>DCM‐50A/*</td>\n",
       "      <td>-850</td>\n",
       "      <td>50</td>\n",
       "      <td>4.00</td>\n",
       "      <td>4</td>\n",
       "      <td>16.00</td>\n",
       "    </tr>\n",
       "    <tr>\n",
       "      <th>4</th>\n",
       "      <td>DCM‐60A/*</td>\n",
       "      <td>-1020</td>\n",
       "      <td>60</td>\n",
       "      <td>4.70</td>\n",
       "      <td>3</td>\n",
       "      <td>14.10</td>\n",
       "    </tr>\n",
       "    <tr>\n",
       "      <th>5</th>\n",
       "      <td>DCM‐70A/*</td>\n",
       "      <td>-1190</td>\n",
       "      <td>70</td>\n",
       "      <td>5.10</td>\n",
       "      <td>3</td>\n",
       "      <td>15.30</td>\n",
       "    </tr>\n",
       "    <tr>\n",
       "      <th>6</th>\n",
       "      <td>DCM‐80A/*</td>\n",
       "      <td>-1360</td>\n",
       "      <td>80</td>\n",
       "      <td>5.60</td>\n",
       "      <td>3</td>\n",
       "      <td>16.80</td>\n",
       "    </tr>\n",
       "    <tr>\n",
       "      <th>7</th>\n",
       "      <td>DCM‐90A/*</td>\n",
       "      <td>-1530</td>\n",
       "      <td>90</td>\n",
       "      <td>6.00</td>\n",
       "      <td>2</td>\n",
       "      <td>12.00</td>\n",
       "    </tr>\n",
       "    <tr>\n",
       "      <th>8</th>\n",
       "      <td>DCM‐100A/*</td>\n",
       "      <td>-1700</td>\n",
       "      <td>100</td>\n",
       "      <td>6.50</td>\n",
       "      <td>2</td>\n",
       "      <td>13.00</td>\n",
       "    </tr>\n",
       "  </tbody>\n",
       "</table>\n",
       "</div>"
      ],
      "text/plain": [
       "         type  dispersion  fiber_compensation_distance  insertion_loss  \\\n",
       "0   DCM‐20A/*        -340                           20            2.70   \n",
       "1   DCM‐30A/*        -510                           30            3.10   \n",
       "2   DCM‐40A/*        -680                           40            3.60   \n",
       "3   DCM‐50A/*        -850                           50            4.00   \n",
       "4   DCM‐60A/*       -1020                           60            4.70   \n",
       "5   DCM‐70A/*       -1190                           70            5.10   \n",
       "6   DCM‐80A/*       -1360                           80            5.60   \n",
       "7   DCM‐90A/*       -1530                           90            6.00   \n",
       "8  DCM‐100A/*       -1700                          100            6.50   \n",
       "\n",
       "   needs_due_to_dispersion_comp  full_insertion_loss  \n",
       "0                             9                24.30  \n",
       "1                             6                18.60  \n",
       "2                             5                18.00  \n",
       "3                             4                16.00  \n",
       "4                             3                14.10  \n",
       "5                             3                15.30  \n",
       "6                             3                16.80  \n",
       "7                             2                12.00  \n",
       "8                             2                13.00  "
      ]
     },
     "execution_count": 441,
     "metadata": {},
     "output_type": "execute_result"
    }
   ],
   "source": [
    "pd.options.display.float_format = '{:,.2f}'.format\n",
    "copensation_modules = pd.read_clipboard(header=None)\n",
    "copensation_modules = copensation_modules.iloc[:, [0,1, 4, 6]]\n",
    "copensation_modules.columns = ['type', 'dispersion', 'fiber_compensation_distance', 'insertion_loss']\n",
    "copensation_modules['needs_due_to_dispersion_comp'] = copensation_modules.dispersion.apply(lambda dispersion_compensation: -int(D // dispersion_compensation))\n",
    "copensation_modules['full_insertion_loss'] = copensation_modules.insertion_loss * copensation_modules.needs_due_to_dispersion_comp\n",
    "copensation_modules"
   ]
  },
  {
   "cell_type": "code",
   "execution_count": 442,
   "metadata": {},
   "outputs": [
    {
     "name": "stdout",
     "output_type": "stream",
     "text": [
      "straty_na_spawach=1.6\n",
      "straty_na_zlaczach=3\n",
      "Pc=4.6\n"
     ]
    }
   ],
   "source": [
    "straty_na_spawach = liczba_spawow * As # dB\n",
    "print(f'{straty_na_spawach=}')\n",
    "straty_na_zlaczach = 3 * Ac\n",
    "print(f'{straty_na_zlaczach=}')\n",
    "\n",
    "Pc = straty_na_polaczeniach = straty_na_spawach + straty_na_zlaczach\n",
    "print(f'{Pc=}')"
   ]
  },
  {
   "cell_type": "code",
   "execution_count": 443,
   "metadata": {},
   "outputs": [
    {
     "name": "stdout",
     "output_type": "stream",
     "text": [
      "x_dcm=12\n",
      "0.18db/km * 167km = 30.06 db\n",
      "X=42.06\n"
     ]
    }
   ],
   "source": [
    "x_dcm = 12\n",
    "print(f'{x_dcm=}')\n",
    "x_smf = L_smf*alfa_smf\n",
    "print(f'{alfa_smf}db/km * {L_smf}km = {x_smf:.2F} db')\n",
    "X = x_smf + x_dcm\n",
    "print(f'{X=:.2f}')"
   ]
  },
  {
   "cell_type": "code",
   "execution_count": 444,
   "metadata": {},
   "outputs": [
    {
     "name": "stdout",
     "output_type": "stream",
     "text": [
      "\n",
      "B0=5 Gb/s\n",
      "Pr0 = -33.60 db = 4.36e-07 W\n",
      "Pr = 8.72e-07 W = -30.59 dB\n",
      "Ps = Pr + Pm + Pc + X = -30.59dB + 1dB + 4.6dB + 42.06dB = 17.07dB = 50.88 mW\n",
      "\n",
      "B0=20 Gb/s\n",
      "Pr0 = -27.58 db = 1.74e-06 W\n",
      "Pr = 3.49e-06 W = -24.57 dB\n",
      "Ps = Pr + Pm + Pc + X = -24.57dB + 1dB + 4.6dB + 42.06dB = 23.09dB = 203.53 mW\n",
      "\n",
      "B0=50 Gb/s\n",
      "Pr0 = -23.60 db = 4.36e-06 W\n",
      "Pr = 8.72e-06 W = -20.59 dB\n",
      "Ps = Pr + Pm + Pc + X = -20.59dB + 1dB + 4.6dB + 42.06dB = 27.07dB = 508.82 mW\n"
     ]
    },
    {
     "data": {
      "text/html": [
       "<div>\n",
       "<style scoped>\n",
       "    .dataframe tbody tr th:only-of-type {\n",
       "        vertical-align: middle;\n",
       "    }\n",
       "\n",
       "    .dataframe tbody tr th {\n",
       "        vertical-align: top;\n",
       "    }\n",
       "\n",
       "    .dataframe thead th {\n",
       "        text-align: right;\n",
       "    }\n",
       "</style>\n",
       "<table border=\"1\" class=\"dataframe\">\n",
       "  <thead>\n",
       "    <tr style=\"text-align: right;\">\n",
       "      <th></th>\n",
       "      <th>Pr_db</th>\n",
       "      <th>Ps_mw</th>\n",
       "    </tr>\n",
       "    <tr>\n",
       "      <th>B0</th>\n",
       "      <th></th>\n",
       "      <th></th>\n",
       "    </tr>\n",
       "  </thead>\n",
       "  <tbody>\n",
       "    <tr>\n",
       "      <th>5</th>\n",
       "      <td>-30.59</td>\n",
       "      <td>50.88</td>\n",
       "    </tr>\n",
       "    <tr>\n",
       "      <th>20</th>\n",
       "      <td>-24.57</td>\n",
       "      <td>203.53</td>\n",
       "    </tr>\n",
       "    <tr>\n",
       "      <th>50</th>\n",
       "      <td>-20.59</td>\n",
       "      <td>508.82</td>\n",
       "    </tr>\n",
       "  </tbody>\n",
       "</table>\n",
       "</div>"
      ],
      "text/plain": [
       "    Pr_db  Ps_mw\n",
       "B0              \n",
       "5  -30.59  50.88\n",
       "20 -24.57 203.53\n",
       "50 -20.59 508.82"
      ]
     },
     "metadata": {},
     "output_type": "display_data"
    },
    {
     "data": {
      "text/html": [
       "<div>\n",
       "<style scoped>\n",
       "    .dataframe tbody tr th:only-of-type {\n",
       "        vertical-align: middle;\n",
       "    }\n",
       "\n",
       "    .dataframe tbody tr th {\n",
       "        vertical-align: top;\n",
       "    }\n",
       "\n",
       "    .dataframe thead th {\n",
       "        text-align: right;\n",
       "    }\n",
       "</style>\n",
       "<table border=\"1\" class=\"dataframe\">\n",
       "  <thead>\n",
       "    <tr style=\"text-align: right;\">\n",
       "      <th></th>\n",
       "      <th>Pr_db</th>\n",
       "      <th>Pm</th>\n",
       "      <th>Pc</th>\n",
       "      <th>x_compensator</th>\n",
       "      <th>x_smf</th>\n",
       "    </tr>\n",
       "    <tr>\n",
       "      <th>B0</th>\n",
       "      <th></th>\n",
       "      <th></th>\n",
       "      <th></th>\n",
       "      <th></th>\n",
       "      <th></th>\n",
       "    </tr>\n",
       "  </thead>\n",
       "  <tbody>\n",
       "    <tr>\n",
       "      <th>5</th>\n",
       "      <td>-30.59</td>\n",
       "      <td>1</td>\n",
       "      <td>4.60</td>\n",
       "      <td>12</td>\n",
       "      <td>30.06</td>\n",
       "    </tr>\n",
       "    <tr>\n",
       "      <th>20</th>\n",
       "      <td>-24.57</td>\n",
       "      <td>1</td>\n",
       "      <td>4.60</td>\n",
       "      <td>12</td>\n",
       "      <td>30.06</td>\n",
       "    </tr>\n",
       "    <tr>\n",
       "      <th>50</th>\n",
       "      <td>-20.59</td>\n",
       "      <td>1</td>\n",
       "      <td>4.60</td>\n",
       "      <td>12</td>\n",
       "      <td>30.06</td>\n",
       "    </tr>\n",
       "  </tbody>\n",
       "</table>\n",
       "</div>"
      ],
      "text/plain": [
       "    Pr_db  Pm   Pc  x_compensator  x_smf\n",
       "B0                                      \n",
       "5  -30.59   1 4.60             12  30.06\n",
       "20 -24.57   1 4.60             12  30.06\n",
       "50 -20.59   1 4.60             12  30.06"
      ]
     },
     "metadata": {},
     "output_type": "display_data"
    },
    {
     "data": {
      "text/html": [
       "<div>\n",
       "<style scoped>\n",
       "    .dataframe tbody tr th:only-of-type {\n",
       "        vertical-align: middle;\n",
       "    }\n",
       "\n",
       "    .dataframe tbody tr th {\n",
       "        vertical-align: top;\n",
       "    }\n",
       "\n",
       "    .dataframe thead th {\n",
       "        text-align: right;\n",
       "    }\n",
       "</style>\n",
       "<table border=\"1\" class=\"dataframe\">\n",
       "  <thead>\n",
       "    <tr style=\"text-align: right;\">\n",
       "      <th></th>\n",
       "      <th>Pr_db</th>\n",
       "      <th>Pm</th>\n",
       "      <th>Pc</th>\n",
       "      <th>x_compensator</th>\n",
       "      <th>x_smf</th>\n",
       "    </tr>\n",
       "    <tr>\n",
       "      <th>B0</th>\n",
       "      <th></th>\n",
       "      <th></th>\n",
       "      <th></th>\n",
       "      <th></th>\n",
       "      <th></th>\n",
       "    </tr>\n",
       "  </thead>\n",
       "  <tbody>\n",
       "    <tr>\n",
       "      <th>5</th>\n",
       "      <td>~39%</td>\n",
       "      <td>~1%</td>\n",
       "      <td>~6%</td>\n",
       "      <td>~15%</td>\n",
       "      <td>~38%</td>\n",
       "    </tr>\n",
       "    <tr>\n",
       "      <th>20</th>\n",
       "      <td>~34%</td>\n",
       "      <td>~1%</td>\n",
       "      <td>~6%</td>\n",
       "      <td>~17%</td>\n",
       "      <td>~42%</td>\n",
       "    </tr>\n",
       "    <tr>\n",
       "      <th>50</th>\n",
       "      <td>~30%</td>\n",
       "      <td>~1%</td>\n",
       "      <td>~7%</td>\n",
       "      <td>~18%</td>\n",
       "      <td>~44%</td>\n",
       "    </tr>\n",
       "  </tbody>\n",
       "</table>\n",
       "</div>"
      ],
      "text/plain": [
       "    Pr_db  Pm  Pc  x_compensator  x_smf\n",
       "B0                                     \n",
       "5    ~39% ~1% ~6%           ~15%   ~38%\n",
       "20   ~34% ~1% ~6%           ~17%   ~42%\n",
       "50   ~30% ~1% ~7%           ~18%   ~44%"
      ]
     },
     "metadata": {},
     "output_type": "display_data"
    },
    {
     "data": {
      "image/png": "[encoded data removed]",
      "text/plain": [
       "<Figure size 576x576 with 2 Axes>"
      ]
     },
     "metadata": {
      "needs_background": "light"
     },
     "output_type": "display_data"
    }
   ],
   "source": [
    "results = plot_pr([5, 20, 50], x_dcm, Pc, True)\n",
    "_ = plot_pr(range(1,500), x_dcm, Pc, plot=True)\n",
    "print_results_tables(results)"
   ]
  }
 ],
 "metadata": {
  "kernelspec": {
   "display_name": "Python 3",
   "language": "python",
   "name": "python3"
  },
  "language_info": {
   "codemirror_mode": {
    "name": "ipython",
    "version": 3
   },
   "file_extension": ".py",
   "mimetype": "text/x-python",
   "name": "python",
   "nbconvert_exporter": "python",
   "pygments_lexer": "ipython3",
   "version": "3.8.5"
  }
 },
 "nbformat": 4,
 "nbformat_minor": 5
}
